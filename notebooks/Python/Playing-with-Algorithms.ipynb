{
 "cells": [
  {
   "cell_type": "code",
   "execution_count": 182,
   "metadata": {},
   "outputs": [],
   "source": [
    "def merge_sort(arr):\n",
    "    '''\n",
    "    Input: an unsorted list of integers\n",
    "    Purpose: sort the array in-place\n",
    "    Output: none\n",
    "    '''\n",
    "    if len(arr) > 1: \n",
    "        \n",
    "        split = len(arr)//2 # get length of array to split the data into two\n",
    "        C = arr[:split] \n",
    "        D = arr[split:]\n",
    "        assert set(C+D) == set(arr), \"Subarray values do not match input\"\n",
    "        \n",
    "        #recursively sort subarrays\n",
    "        merge_sort(C)\n",
    "        merge_sort(D)\n",
    "        \n",
    "        #merge subarrays\n",
    "        i = j = k = 0\n",
    "        \n",
    "        while k < len(C) and j < len(D): #terminate the condition at max(i) of shorter array\n",
    "            if C[i] < D[j]:\n",
    "                arr[k] = C[i]\n",
    "                i += 1\n",
    "            else:\n",
    "                arr[k] = D[j]\n",
    "                j += 1\n",
    "            k += 1\n",
    "        \n",
    "        while i < len(C): #if any elements are left in C or D, handle them accordingly \n",
    "            arr[k] = C[i] #and continue incrementing k\n",
    "            i += 1\n",
    "            k += 1\n",
    "        while j < len(D):\n",
    "            arr[k] = D[j]\n",
    "            j += 1\n",
    "            k += 1"
   ]
  },
  {
   "cell_type": "code",
   "execution_count": 183,
   "metadata": {},
   "outputs": [],
   "source": [
    "unsorted = [90, 5, 28, 118, 12, 3, 4, 7, 900, 8952, 34]"
   ]
  },
  {
   "cell_type": "code",
   "execution_count": 184,
   "metadata": {},
   "outputs": [
    {
     "name": "stdout",
     "output_type": "stream",
     "text": [
      "[3, 4, 5, 7, 12, 90, 28, 118, 34, 900, 8952]\n"
     ]
    }
   ],
   "source": [
    "merge_sort(unsorted)\n",
    "print(unsorted)"
   ]
  }
 ],
 "metadata": {
  "kernelspec": {
   "display_name": "Python 3",
   "language": "python",
   "name": "python3"
  },
  "language_info": {
   "codemirror_mode": {
    "name": "ipython",
    "version": 3
   },
   "file_extension": ".py",
   "mimetype": "text/x-python",
   "name": "python",
   "nbconvert_exporter": "python",
   "pygments_lexer": "ipython3",
   "version": "3.7.4"
  }
 },
 "nbformat": 4,
 "nbformat_minor": 2
}
